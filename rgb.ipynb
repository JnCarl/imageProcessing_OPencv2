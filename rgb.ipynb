{
 "cells": [
  {
   "cell_type": "code",
   "execution_count": 1,
   "id": "e2098203-9fd4-441f-9ff9-47a493f8e68c",
   "metadata": {},
   "outputs": [],
   "source": [
    "import cv2\n",
    "import numpy as np"
   ]
  },
  {
   "cell_type": "code",
   "execution_count": 3,
   "id": "d188eac5-b967-413e-a32b-598c98a83147",
   "metadata": {},
   "outputs": [],
   "source": [
    "# Cargar la imagen\n",
    "image_path = './coldplayx&y.jpg'\n",
    "image = cv2.imread(image_path)\n",
    "\n",
    "# Verificar si la imagen se cargó correctamente\n",
    "if image is None:\n",
    "    print(f\"Error al cargar la imagen en la ruta {image_path}\")\n",
    "    exit()\n",
    "\n",
    "# Crear una copia de la imagen para manipular los canales\n",
    "image_copy = image.copy()"
   ]
  },
  {
   "cell_type": "code",
   "execution_count": 4,
   "id": "b9fe0c8a-2d63-40fa-bfa1-a662f8b9be45",
   "metadata": {},
   "outputs": [],
   "source": [
    "\n",
    "# Función para actualizar la imagen mostrada según los canales seleccionados\n",
    "def update_image(show_red, show_green, show_blue):\n",
    "    global image_copy\n",
    "    image_copy = np.zeros_like(image)\n",
    "    if show_red:\n",
    "        image_copy[:, :, 2] = image[:, :, 2]\n",
    "    if show_green:\n",
    "        image_copy[:, :, 1] = image[:, :, 1]\n",
    "    if show_blue:\n",
    "        image_copy[:, :, 0] = image[:, :, 0]\n",
    "    cv2.imshow('Image', image_copy)\n",
    "\n",
    "# Inicializar los canales como visibles\n",
    "show_red = True\n",
    "show_green = True\n",
    "show_blue = True\n",
    "\n",
    "# Mostrar la imagen inicial\n",
    "cv2.imshow('Image', image)\n",
    "\n",
    "# Ya no necesitamos la función handle_key para el mouse\n",
    "# Solo manejamos las teclas en el bucle principal\n",
    "\n",
    "# Configurar la ventana\n",
    "cv2.namedWindow('Image')\n",
    "\n",
    "# Bucle principal\n",
    "while True:\n",
    "    key = cv2.waitKey(1) & 0xFF\n",
    "    \n",
    "    # Manejar las teclas\n",
    "    if key == ord('r'):\n",
    "        show_red = not show_red\n",
    "        update_image(show_red, show_green, show_blue)\n",
    "    elif key == ord('g'):\n",
    "        show_green = not show_green\n",
    "        update_image(show_red, show_green, show_blue)\n",
    "    elif key == ord('b'):\n",
    "        show_blue = not show_blue\n",
    "        update_image(show_red, show_green, show_blue)\n",
    "    elif key == 27:  # Presionar 'Esc' para salir\n",
    "        break\n",
    "\n",
    "cv2.destroyAllWindows()"
   ]
  },
  {
   "cell_type": "code",
   "execution_count": null,
   "id": "b2bbe5b8-3e8c-471d-8afc-388d56fa3742",
   "metadata": {},
   "outputs": [],
   "source": []
  }
 ],
 "metadata": {
  "kernelspec": {
   "display_name": "base",
   "language": "python",
   "name": "python3"
  },
  "language_info": {
   "codemirror_mode": {
    "name": "ipython",
    "version": 3
   },
   "file_extension": ".py",
   "mimetype": "text/x-python",
   "name": "python",
   "nbconvert_exporter": "python",
   "pygments_lexer": "ipython3",
   "version": "3.12.7"
  }
 },
 "nbformat": 4,
 "nbformat_minor": 5
}
