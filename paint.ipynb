{
 "cells": [
  {
   "cell_type": "code",
   "execution_count": 24,
   "id": "cd43b6b8-55ad-4529-b43a-7f514f14ed8a",
   "metadata": {},
   "outputs": [
    {
     "data": {
      "text/plain": [
       "True"
      ]
     },
     "execution_count": 24,
     "metadata": {},
     "output_type": "execute_result"
    }
   ],
   "source": [
    "import cv2\n",
    "\n",
    "# Variables globales\n",
    "imagen = cv2.imread('./Coldplayx&y.jpg')\n",
    "dibujando = False\n",
    "centro = (0, 0)\n",
    "radio = 0\n",
    "texto = ''\n",
    "ingresando_texto = False\n",
    "\n",
    "# Función de callback para manejar eventos del mouse\n",
    "def dibujar_circulo_callback(event, x, y, flags, param):\n",
    "    global centro, radio, dibujando, imagen, texto, ingresando_texto\n",
    "\n",
    "    if event == cv2.EVENT_LBUTTONDOWN:\n",
    "        dibujando = True\n",
    "        centro = (x, y)\n",
    "        texto = ''  # Limpiar texto cuando comience el dibujo\n",
    "\n",
    "    elif event == cv2.EVENT_MOUSEMOVE:\n",
    "        if dibujando:\n",
    "            imagen_temp = imagen.copy()  # Copia de la imagen para mostrar en tiempo real\n",
    "            radio = int(((x - centro[0]) ** 2 + (y - centro[1]) ** 2) ** 0.5)\n",
    "            dibujar_circulo(imagen_temp, centro, radio, texto)  # Dibujar el círculo en la copia\n",
    "            cv2.imshow('Imagen con círculo y texto', imagen_temp)\n",
    "\n",
    "    elif event == cv2.EVENT_LBUTTONUP:\n",
    "        dibujando = False\n",
    "        radio = int(((x - centro[0]) ** 2 + (y - centro[1]) ** 2) ** 0.5)\n",
    "        # Solo dibujar el círculo una vez al soltar el ratón\n",
    "        dibujar_circulo(imagen, centro, radio, texto)  # Modificar la imagen original\n",
    "        cv2.imshow('Imagen con círculo y texto', imagen)\n",
    "\n",
    "# Dibujar el círculo y añadir el texto\n",
    "def dibujar_circulo(imagen, centro, radio, texto):\n",
    "    cv2.circle(imagen, centro, radio, (0, 255, 0), 2)  # Dibujar el círculo sobre la imagen original\n",
    "    if texto:\n",
    "        text_size = cv2.getTextSize(texto, cv2.FONT_HERSHEY_SIMPLEX, 0.5, 2)[0]\n",
    "        text_x = centro[0] - text_size[0] // 2\n",
    "        text_y = centro[1] - radio - 10\n",
    "        # Asegurar que el texto no se dibuje fuera de la imagen\n",
    "        height, width, _ = imagen.shape\n",
    "        text_x = max(0, min(text_x, width - text_size[0]))\n",
    "        text_y = max(0, min(text_y, height - text_size[1]))\n",
    "        cv2.putText(imagen, texto, (text_x, text_y), cv2.FONT_HERSHEY_SIMPLEX, 0.5, (0, 255, 0), 2)\n",
    "\n",
    "# Mostrar la imagen y configurar la función de callback\n",
    "cv2.imshow('Imagen con círculo y texto', imagen)\n",
    "cv2.setMouseCallback('Imagen con círculo y texto', dibujar_circulo_callback)\n",
    "\n",
    "while True:\n",
    "    key = cv2.waitKey(1) & 0xFF\n",
    "\n",
    "    if key == 32:  # Espacio\n",
    "        ingresando_texto = True\n",
    "        texto = ''\n",
    "\n",
    "    if ingresando_texto:\n",
    "        if key == 13:  # Enter\n",
    "            ingresando_texto = False\n",
    "        elif key == 8:  # Retroceso\n",
    "            texto = texto[:-1]\n",
    "        elif key != 255 and key != 27 and key != 32:  # Otras teclas\n",
    "            texto += chr(key)\n",
    "\n",
    "        # Copiar la imagen para que el usuario vea los cambios en tiempo real\n",
    "        imagen_temp = imagen.copy()\n",
    "        dibujar_circulo(imagen_temp, centro, radio, texto)  # Dibujar el texto en la copia\n",
    "        cv2.imshow('Imagen con círculo y texto', imagen_temp)\n",
    "\n",
    "    # Solo dibujar el círculo en la imagen original si se ha soltado el ratón\n",
    "    if not ingresando_texto and not dibujando:\n",
    "        dibujar_circulo(imagen, centro, radio, texto)  # Asegurarse de que solo se dibuje una vez\n",
    "        cv2.imshow('Imagen con círculo y texto', imagen)\n",
    "\n",
    "    if key == 27:  # Escape\n",
    "        break\n",
    "\n",
    "cv2.destroyAllWindows()\n",
    "\n",
    "# Guardar la imagen final con el círculo y texto\n",
    "cv2.imwrite('imagen_con_circulo_y_texto.jpg', imagen)  # Guardar la imagen original con los cambios\n"
   ]
  },
  {
   "cell_type": "code",
   "execution_count": null,
   "id": "6fcc5d15",
   "metadata": {},
   "outputs": [],
   "source": []
  }
 ],
 "metadata": {
  "kernelspec": {
   "display_name": "base",
   "language": "python",
   "name": "python3"
  },
  "language_info": {
   "codemirror_mode": {
    "name": "ipython",
    "version": 3
   },
   "file_extension": ".py",
   "mimetype": "text/x-python",
   "name": "python",
   "nbconvert_exporter": "python",
   "pygments_lexer": "ipython3",
   "version": "3.12.7"
  }
 },
 "nbformat": 4,
 "nbformat_minor": 5
}
